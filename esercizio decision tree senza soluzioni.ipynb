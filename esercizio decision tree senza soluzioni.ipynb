{
 "cells": [
  {
   "cell_type": "markdown",
   "metadata": {},
   "source": [
    "# Esercizio"
   ]
  },
  {
   "cell_type": "markdown",
   "metadata": {},
   "source": [
    "Data Set Information:\n",
    "\n",
    "I dati sono stati estratti da immagini prese da esemplari autentici e falsificati di banconote. Per la digitalizzazione è stata utilizzata una telecamera industriale solitamente utilizzata per l'ispezione delle stampe. Le immagini finali hanno una risoluzione di 400x400 pixel. Grazie all'obiettivo dell'oggetto e alla distanza dall'oggetto indagato sono state ottenute immagini in scala di grigi con una risoluzione di circa 660 dpi. Per estrarre le caratteristiche dalle immagini è stato utilizzato lo strumento Wavelet Transform.\n",
    "\n",
    "Attribute Information:\n",
    "\n",
    "1. varianza dell'immagine trasformata (variabile continua)\n",
    "2. asimmetria dell'immagine trasformata (variabile continua)\n",
    "3. curtosi dell'immagine trasformata (variabile continua)\n",
    "4. entropia dell'immagine (variabile continua)\n",
    "5. classe (variabile intera: 0 la banconota è autentica, 1 la banconota è falsa)\n",
    "\n",
    "Utilizzare il metodo di classificazione decision tree per determinare se la seguente banconota è vera o è falsa:"
   ]
  },
  {
   "cell_type": "code",
   "execution_count": 83,
   "metadata": {},
   "outputs": [],
   "source": [
    "# importiamo Pandas e il datafarame dal file data/bill.csv\n",
    "\n",
    "import pandas as pd\n",
    "\n",
    "df = pd.read_csv(\"./data/bills.csv\")\n"
   ]
  },
  {
   "cell_type": "code",
   "execution_count": 84,
   "metadata": {},
   "outputs": [
    {
     "data": {
      "text/html": [
       "<div>\n",
       "<style scoped>\n",
       "    .dataframe tbody tr th:only-of-type {\n",
       "        vertical-align: middle;\n",
       "    }\n",
       "\n",
       "    .dataframe tbody tr th {\n",
       "        vertical-align: top;\n",
       "    }\n",
       "\n",
       "    .dataframe thead th {\n",
       "        text-align: right;\n",
       "    }\n",
       "</style>\n",
       "<table border=\"1\" class=\"dataframe\">\n",
       "  <thead>\n",
       "    <tr style=\"text-align: right;\">\n",
       "      <th></th>\n",
       "      <th>Variance</th>\n",
       "      <th>Skewness</th>\n",
       "      <th>Curtosis</th>\n",
       "      <th>Entropy</th>\n",
       "      <th>Class</th>\n",
       "    </tr>\n",
       "  </thead>\n",
       "  <tbody>\n",
       "    <tr>\n",
       "      <th>0</th>\n",
       "      <td>3.62160</td>\n",
       "      <td>8.66610</td>\n",
       "      <td>-2.8073</td>\n",
       "      <td>-0.44699</td>\n",
       "      <td>0</td>\n",
       "    </tr>\n",
       "    <tr>\n",
       "      <th>1</th>\n",
       "      <td>4.54590</td>\n",
       "      <td>8.16740</td>\n",
       "      <td>-2.4586</td>\n",
       "      <td>-1.46210</td>\n",
       "      <td>0</td>\n",
       "    </tr>\n",
       "    <tr>\n",
       "      <th>2</th>\n",
       "      <td>3.86600</td>\n",
       "      <td>-2.63830</td>\n",
       "      <td>1.9242</td>\n",
       "      <td>0.10645</td>\n",
       "      <td>0</td>\n",
       "    </tr>\n",
       "    <tr>\n",
       "      <th>3</th>\n",
       "      <td>3.45660</td>\n",
       "      <td>9.52280</td>\n",
       "      <td>-4.0112</td>\n",
       "      <td>-3.59440</td>\n",
       "      <td>0</td>\n",
       "    </tr>\n",
       "    <tr>\n",
       "      <th>4</th>\n",
       "      <td>0.32924</td>\n",
       "      <td>-4.45520</td>\n",
       "      <td>4.5718</td>\n",
       "      <td>-0.98880</td>\n",
       "      <td>0</td>\n",
       "    </tr>\n",
       "    <tr>\n",
       "      <th>...</th>\n",
       "      <td>...</td>\n",
       "      <td>...</td>\n",
       "      <td>...</td>\n",
       "      <td>...</td>\n",
       "      <td>...</td>\n",
       "    </tr>\n",
       "    <tr>\n",
       "      <th>1367</th>\n",
       "      <td>0.40614</td>\n",
       "      <td>1.34920</td>\n",
       "      <td>-1.4501</td>\n",
       "      <td>-0.55949</td>\n",
       "      <td>1</td>\n",
       "    </tr>\n",
       "    <tr>\n",
       "      <th>1368</th>\n",
       "      <td>-1.38870</td>\n",
       "      <td>-4.87730</td>\n",
       "      <td>6.4774</td>\n",
       "      <td>0.34179</td>\n",
       "      <td>1</td>\n",
       "    </tr>\n",
       "    <tr>\n",
       "      <th>1369</th>\n",
       "      <td>-3.75030</td>\n",
       "      <td>-13.45860</td>\n",
       "      <td>17.5932</td>\n",
       "      <td>-2.77710</td>\n",
       "      <td>1</td>\n",
       "    </tr>\n",
       "    <tr>\n",
       "      <th>1370</th>\n",
       "      <td>-3.56370</td>\n",
       "      <td>-8.38270</td>\n",
       "      <td>12.3930</td>\n",
       "      <td>-1.28230</td>\n",
       "      <td>1</td>\n",
       "    </tr>\n",
       "    <tr>\n",
       "      <th>1371</th>\n",
       "      <td>-2.54190</td>\n",
       "      <td>-0.65804</td>\n",
       "      <td>2.6842</td>\n",
       "      <td>1.19520</td>\n",
       "      <td>1</td>\n",
       "    </tr>\n",
       "  </tbody>\n",
       "</table>\n",
       "<p>1372 rows × 5 columns</p>\n",
       "</div>"
      ],
      "text/plain": [
       "      Variance  Skewness  Curtosis  Entropy  Class\n",
       "0      3.62160   8.66610   -2.8073 -0.44699      0\n",
       "1      4.54590   8.16740   -2.4586 -1.46210      0\n",
       "2      3.86600  -2.63830    1.9242  0.10645      0\n",
       "3      3.45660   9.52280   -4.0112 -3.59440      0\n",
       "4      0.32924  -4.45520    4.5718 -0.98880      0\n",
       "...        ...       ...       ...      ...    ...\n",
       "1367   0.40614   1.34920   -1.4501 -0.55949      1\n",
       "1368  -1.38870  -4.87730    6.4774  0.34179      1\n",
       "1369  -3.75030 -13.45860   17.5932 -2.77710      1\n",
       "1370  -3.56370  -8.38270   12.3930 -1.28230      1\n",
       "1371  -2.54190  -0.65804    2.6842  1.19520      1\n",
       "\n",
       "[1372 rows x 5 columns]"
      ]
     },
     "execution_count": 84,
     "metadata": {},
     "output_type": "execute_result"
    }
   ],
   "source": [
    "# visualizziamo il dataframe\n",
    "df"
   ]
  },
  {
   "cell_type": "code",
   "execution_count": 85,
   "metadata": {},
   "outputs": [
    {
     "name": "stdout",
     "output_type": "stream",
     "text": [
      "Class\n",
      "0    762\n",
      "1    610\n",
      "dtype: int64\n"
     ]
    }
   ],
   "source": [
    "# visualizziamo il numero di banconote per ogni classe\n",
    "print(df.groupby(\"Class\").size())"
   ]
  },
  {
   "cell_type": "code",
   "execution_count": 86,
   "metadata": {},
   "outputs": [
    {
     "data": {
      "image/png": "[encoded data removed]",
      "text/plain": [
       "<Figure size 432x288 with 1 Axes>"
      ]
     },
     "metadata": {
      "needs_background": "light"
     },
     "output_type": "display_data"
    }
   ],
   "source": [
    "# per maggior chiarezza, visualizziamo anche il grafico delle classi delle banconote\n",
    "%matplotlib inline\n",
    "import seaborn as sns\n",
    "import matplotlib.pyplot as plt\n",
    "\n",
    "\n",
    "sns.countplot(x=\"Class\", data=df)\n",
    "plt.title(\"Wine Dataset\")\n",
    "plt.xlabel(\"Classes\")\n",
    "plt.ylabel(\"Counts\")\n",
    "plt.show()"
   ]
  },
  {
   "cell_type": "code",
   "execution_count": 87,
   "metadata": {},
   "outputs": [],
   "source": [
    "# traformiamo il dataframe in una matrice numpy e separiamo il target (la classe, ultima colonna, che chiamiamo y)\n",
    "# dal resto dei dati (le osservazioni, che chiameremo x)\n",
    "\n",
    "import numpy as np\n",
    "\n",
    "dfnp = df.to_numpy()\n",
    "x=dfnp[:,0:-1] # prendiamo tutti i dati tranne l'ultima colonna -> variabili indipendenti, osservazioni\n",
    "y=dfnp[:,-1] # prendiamo solo l'ultima colonna -> variabile dipendente, target"
   ]
  },
  {
   "cell_type": "code",
   "execution_count": 88,
   "metadata": {},
   "outputs": [
    {
     "name": "stdout",
     "output_type": "stream",
     "text": [
      "[[ 3.6216   8.6661  -2.8073  -0.44699]\n",
      " [ 4.5459   8.1674  -2.4586  -1.4621 ]\n",
      " [ 3.866   -2.6383   1.9242   0.10645]\n",
      " [ 3.4566   9.5228  -4.0112  -3.5944 ]\n",
      " [ 0.32924 -4.4552   4.5718  -0.9888 ]\n",
      " [ 4.3684   9.6718  -3.9606  -3.1625 ]\n",
      " [ 3.5912   3.0129   0.72888  0.56421]\n",
      " [ 2.0922  -6.81     8.4636  -0.60216]\n",
      " [ 3.2032   5.7588  -0.75345 -0.61251]\n",
      " [ 1.5356   9.1772  -2.2718  -0.73535]]\n",
      "y = [0. 0. 0. 0. 0. 0. 0. 0. 0. 0.]\n"
     ]
    }
   ],
   "source": [
    "# vediamo i dati presenti in x e y\n",
    "print(x[:10])\n",
    "print(f'y = {y[:10]}')"
   ]
  },
  {
   "cell_type": "code",
   "execution_count": 89,
   "metadata": {},
   "outputs": [
    {
     "data": {
      "text/plain": [
       "Counter({0.0: 762, 1.0: 610})"
      ]
     },
     "execution_count": 89,
     "metadata": {},
     "output_type": "execute_result"
    }
   ],
   "source": [
    "# ora contiamo le classi che sono presenti nella y per vedere se corrispondono a quanto trovato nel dataframe\n",
    "\n",
    "import collections\n",
    "collections.Counter(y)"
   ]
  },
  {
   "cell_type": "code",
   "execution_count": 90,
   "metadata": {},
   "outputs": [],
   "source": [
    "#suddividiamo ora i dati in due dataset, uno per 'allenare' il metodo (training set) \n",
    "# e l'altro per testarne l'efficacia (test set). Facciamo in modo che il training set sia il 75% del totale\n",
    "from sklearn.model_selection import train_test_split\n",
    "\n",
    "X_train, X_test, y_train, y_test = train_test_split(x, y, \n",
    "                                                    test_size =0.25, #by default is 75%-25%\n",
    "                                                    #shuffle is set True by default,\n",
    "                                                    stratify=y,\n",
    "                                                    random_state= 123) #fix random seed for replicability"
   ]
  },
  {
   "cell_type": "code",
   "execution_count": 91,
   "metadata": {},
   "outputs": [
    {
     "data": {
      "text/plain": [
       "((1029, 4), (1029,), (343, 4), (343,))"
      ]
     },
     "execution_count": 91,
     "metadata": {},
     "output_type": "execute_result"
    }
   ],
   "source": [
    "# visualizziamo gli shape dei vari dataset X_train, X_test, y_train e y_test\n",
    "X_train.shape,y_train.shape,X_test.shape,y_test.shape"
   ]
  },
  {
   "cell_type": "code",
   "execution_count": 92,
   "metadata": {},
   "outputs": [
    {
     "name": "stdout",
     "output_type": "stream",
     "text": [
      "[[  0.16358  -3.3584    1.3749    1.3569 ]\n",
      " [  3.5156   10.1891   -4.2759   -4.978  ]\n",
      " [  1.8993    7.6625    0.15394  -3.1108 ]\n",
      " [  2.2517   -5.1422    4.2916   -1.2487 ]\n",
      " [ -1.7713  -10.7665   10.2184   -1.0043 ]\n",
      " [  3.6244    1.4609    1.3501    1.9284 ]\n",
      " [  2.6606    3.1681    1.9619    0.18662]\n",
      " [  4.9264    5.496    -2.4774   -0.50648]\n",
      " [ -2.7611  -10.5099    9.0239   -1.9547 ]\n",
      " [  4.5597   -2.4211    2.6413    1.6168 ]]\n",
      "[1. 0. 0. 0. 1. 0. 0. 0. 1. 0.]\n"
     ]
    }
   ],
   "source": [
    "# visualizziamo anche le prime 10 righe dell'X_train e dell'y_train per vedere i dati\n",
    "# eliminiamo la notazione scientifica per comodità di lettura\n",
    "np.set_printoptions(suppress=True)\n",
    "print(X_train[:10])\n",
    "print(y_train[:10])"
   ]
  },
  {
   "cell_type": "code",
   "execution_count": 93,
   "metadata": {},
   "outputs": [],
   "source": [
    "# importiamo il metodo di classificazione decision tree\n",
    "from sklearn import tree"
   ]
  },
  {
   "cell_type": "code",
   "execution_count": 94,
   "metadata": {},
   "outputs": [],
   "source": [
    "# inizializziamo il metodo con i seguenti parametri:\n",
    "# criterio: indice di Gini\n",
    "# profondità massima dell'albero: 8\n",
    "# dimensione minima per lo split: 25\n",
    "# numero di campioni delle foglie: 10\n",
    "tree_clf = tree.DecisionTreeClassifier(criterion=\"gini\", # criteri per stabilire come splittare\n",
    "                                       max_depth=8, # profondità dell'albero per evitare l'overfitting\n",
    "                                       min_samples_split=25, # dimensione minima del sottogruppo a cui fermarsi (no more split)\n",
    "                                       max_leaf_nodes=10, # numero dei nodi foglia\n",
    "                                       min_samples_leaf=10 # numero di campioni per essere una foglia\n",
    "                                      )\n",
    "\n",
    "\n",
    "\n",
    "\n"
   ]
  },
  {
   "cell_type": "code",
   "execution_count": 95,
   "metadata": {},
   "outputs": [
    {
     "data": {
      "text/plain": [
       "DecisionTreeClassifier(max_depth=8, max_leaf_nodes=10, min_samples_leaf=10,\n",
       "                       min_samples_split=25)"
      ]
     },
     "execution_count": 95,
     "metadata": {},
     "output_type": "execute_result"
    }
   ],
   "source": [
    "# \"alleniamo\" il metodo con i dati del training set\n",
    "tree_clf.fit(X_train,y_train)"
   ]
  },
  {
   "cell_type": "code",
   "execution_count": 96,
   "metadata": {},
   "outputs": [],
   "source": [
    "# proviamo a fare una previsione sui dati del test set\n",
    "predict = tree_clf.predict(X_test)"
   ]
  },
  {
   "cell_type": "code",
   "execution_count": 97,
   "metadata": {},
   "outputs": [
    {
     "name": "stdout",
     "output_type": "stream",
     "text": [
      "dati predetti dal metodo =                [1. 0. 1. 1. 1. 0. 1. 0. 0. 0.]\n",
      "dati reali presenti nel dataset di test = [0. 0. 1. 1. 1. 0. 1. 0. 0. 1.]\n"
     ]
    }
   ],
   "source": [
    "# e visualizziamo il risultato (solo i primi dieci vini)\n",
    "\n",
    "print(f'dati predetti dal metodo =                {predict[:10]}') # dati predetti dal metodo\n",
    "print(f'dati reali presenti nel dataset di test = {y_test[:10]}')"
   ]
  },
  {
   "cell_type": "code",
   "execution_count": 98,
   "metadata": {},
   "outputs": [
    {
     "data": {
      "image/png": "[encoded data removed]",
      "text/plain": [
       "<Figure size 432x288 with 1 Axes>"
      ]
     },
     "metadata": {
      "needs_background": "light"
     },
     "output_type": "display_data"
    }
   ],
   "source": [
    "# valutiamo il nostro metodo:\n",
    "\n",
    "# visualizziamo la confusion matrix\n",
    "from mlxtend.plotting import plot_confusion_matrix\n",
    "from matplotlib import pyplot as plt\n",
    "from sklearn.metrics import confusion_matrix, classification_report\n",
    "\n",
    "plot_confusion_matrix(confusion_matrix(y_test, predict))\n",
    "plt.show()"
   ]
  },
  {
   "cell_type": "code",
   "execution_count": 109,
   "metadata": {},
   "outputs": [
    {
     "name": "stdout",
     "output_type": "stream",
     "text": [
      "              precision    recall  f1-score   support\n",
      "\n",
      "         0.0       0.95      0.94      0.94       191\n",
      "         1.0       0.92      0.94      0.93       152\n",
      "\n",
      "    accuracy                           0.94       343\n",
      "   macro avg       0.94      0.94      0.94       343\n",
      "weighted avg       0.94      0.94      0.94       343\n",
      "\n"
     ]
    }
   ],
   "source": [
    "# quanto valgono TP, FP, FN e TN?\n",
    "# TP =\n",
    "# FP =\n",
    "# FN =\n",
    "# TN =\n"
   ]
  },
  {
   "cell_type": "code",
   "execution_count": 100,
   "metadata": {},
   "outputs": [],
   "source": [
    "# sulla base della confusion matrix, cosa possiamo dire di questo metodo? Motivare la risposta\n",
    "# risposta: Possiamo dire che è affidabile."
   ]
  },
  {
   "cell_type": "code",
   "execution_count": 101,
   "metadata": {},
   "outputs": [],
   "source": [
    "# visualizziamo ora gli indicatori classici:\n",
    "print(classification_report(y_test, predict))"
   ]
  },
  {
   "cell_type": "code",
   "execution_count": 102,
   "metadata": {},
   "outputs": [],
   "source": [
    "# sulla base degli indicatori, che cosa possiamo dire del nostro metodo? Motivare la risposta\n",
    "# risposta:"
   ]
  },
  {
   "cell_type": "code",
   "execution_count": 103,
   "metadata": {},
   "outputs": [],
   "source": [
    "# visualizziamo ora il decision tree, prima in forma testuale\n"
   ]
  },
  {
   "cell_type": "code",
   "execution_count": 110,
   "metadata": {},
   "outputs": [
    {
     "data": {
      "image/svg+xml": "<?xml version=\"1.0\" encoding=\"UTF-8\" standalone=\"no\"?>\n<!DOCTYPE svg PUBLIC \"-//W3C//DTD SVG 1.1//EN\"\n \"http://www.w3.org/Graphics/SVG/1.1/DTD/svg11.dtd\">\n<!-- Generated by graphviz version 2.47.0 (0)\n -->\n<!-- Title: Tree Pages: 1 -->\n<svg width=\"1026pt\" height=\"671pt\"\n viewBox=\"0.00 0.00 1025.50 671.00\" xmlns=\"http://www.w3.org/2000/svg\" xmlns:xlink=\"http://www.w3.org/1999/xlink\">\n<g id=\"graph0\" class=\"graph\" transform=\"scale(1 1) rotate(0) translate(4 667)\">\n<title>Tree</title>\n<polygon fill=\"white\" stroke=\"transparent\" points=\"-4,4 -4,-667 1021.5,-667 1021.5,4 -4,4\"/>\n<!-- 0 -->\n<g id=\"node1\" class=\"node\">\n<title>0</title>\n<path fill=\"#fae6d8\" stroke=\"black\" d=\"M548,-663C548,-663 442,-663 442,-663 436,-663 430,-657 430,-651 430,-651 430,-592 430,-592 430,-586 436,-580 442,-580 442,-580 548,-580 548,-580 554,-580 560,-586 560,-592 560,-592 560,-651 560,-651 560,-657 554,-663 548,-663\"/>\n<text text-anchor=\"start\" x=\"445\" y=\"-647.8\" font-family=\"Helvetica,sans-Serif\" font-size=\"14.00\">Variance ≤ 0.32</text>\n<text text-anchor=\"start\" x=\"457.5\" y=\"-632.8\" font-family=\"Helvetica,sans-Serif\" font-size=\"14.00\">gini = 0.494</text>\n<text text-anchor=\"start\" x=\"443.5\" y=\"-617.8\" font-family=\"Helvetica,sans-Serif\" font-size=\"14.00\">samples = 1029</text>\n<text text-anchor=\"start\" x=\"438\" y=\"-602.8\" font-family=\"Helvetica,sans-Serif\" font-size=\"14.00\">value = [571, 458]</text>\n<text text-anchor=\"start\" x=\"466\" y=\"-587.8\" font-family=\"Helvetica,sans-Serif\" font-size=\"14.00\">class = 0</text>\n</g>\n<!-- 1 -->\n<g id=\"node2\" class=\"node\">\n<title>1</title>\n<path fill=\"#67b4eb\" stroke=\"black\" d=\"M437,-544C437,-544 327,-544 327,-544 321,-544 315,-538 315,-532 315,-532 315,-473 315,-473 315,-467 321,-461 327,-461 327,-461 437,-461 437,-461 443,-461 449,-467 449,-473 449,-473 449,-532 449,-532 449,-538 443,-544 437,-544\"/>\n<text text-anchor=\"start\" x=\"323\" y=\"-528.8\" font-family=\"Helvetica,sans-Serif\" font-size=\"14.00\">Skewness ≤ 7.128</text>\n<text text-anchor=\"start\" x=\"344.5\" y=\"-513.8\" font-family=\"Helvetica,sans-Serif\" font-size=\"14.00\">gini = 0.307</text>\n<text text-anchor=\"start\" x=\"334.5\" y=\"-498.8\" font-family=\"Helvetica,sans-Serif\" font-size=\"14.00\">samples = 497</text>\n<text text-anchor=\"start\" x=\"329\" y=\"-483.8\" font-family=\"Helvetica,sans-Serif\" font-size=\"14.00\">value = [94, 403]</text>\n<text text-anchor=\"start\" x=\"353\" y=\"-468.8\" font-family=\"Helvetica,sans-Serif\" font-size=\"14.00\">class = 1</text>\n</g>\n<!-- 0&#45;&gt;1 -->\n<g id=\"edge1\" class=\"edge\">\n<title>0&#45;&gt;1</title>\n<path fill=\"none\" stroke=\"black\" d=\"M455.8,-579.91C446.94,-570.74 437.46,-560.93 428.35,-551.49\"/>\n<polygon fill=\"black\" stroke=\"black\" points=\"430.6,-548.78 421.14,-544.02 425.57,-553.65 430.6,-548.78\"/>\n<text text-anchor=\"middle\" x=\"420.7\" y=\"-565.32\" font-family=\"Helvetica,sans-Serif\" font-size=\"14.00\">True</text>\n</g>\n<!-- 2 -->\n<g id=\"node9\" class=\"node\">\n<title>2</title>\n<path fill=\"#e89050\" stroke=\"black\" d=\"M676.5,-544C676.5,-544 575.5,-544 575.5,-544 569.5,-544 563.5,-538 563.5,-532 563.5,-532 563.5,-473 563.5,-473 563.5,-467 569.5,-461 575.5,-461 575.5,-461 676.5,-461 676.5,-461 682.5,-461 688.5,-467 688.5,-473 688.5,-473 688.5,-532 688.5,-532 688.5,-538 682.5,-544 676.5,-544\"/>\n<text text-anchor=\"start\" x=\"571.5\" y=\"-528.8\" font-family=\"Helvetica,sans-Serif\" font-size=\"14.00\">Curtosis ≤ &#45;4.386</text>\n<text text-anchor=\"start\" x=\"588.5\" y=\"-513.8\" font-family=\"Helvetica,sans-Serif\" font-size=\"14.00\">gini = 0.185</text>\n<text text-anchor=\"start\" x=\"578.5\" y=\"-498.8\" font-family=\"Helvetica,sans-Serif\" font-size=\"14.00\">samples = 532</text>\n<text text-anchor=\"start\" x=\"573\" y=\"-483.8\" font-family=\"Helvetica,sans-Serif\" font-size=\"14.00\">value = [477, 55]</text>\n<text text-anchor=\"start\" x=\"597\" y=\"-468.8\" font-family=\"Helvetica,sans-Serif\" font-size=\"14.00\">class = 0</text>\n</g>\n<!-- 0&#45;&gt;2 -->\n<g id=\"edge8\" class=\"edge\">\n<title>0&#45;&gt;2</title>\n<path fill=\"none\" stroke=\"black\" d=\"M540.45,-579.91C550.92,-570.56 562.14,-560.54 572.9,-550.93\"/>\n<polygon fill=\"black\" stroke=\"black\" points=\"575.5,-553.29 580.63,-544.02 570.84,-548.07 575.5,-553.29\"/>\n<text text-anchor=\"middle\" x=\"579.22\" y=\"-565.28\" font-family=\"Helvetica,sans-Serif\" font-size=\"14.00\">False</text>\n</g>\n<!-- 3 -->\n<g id=\"node3\" class=\"node\">\n<title>3</title>\n<path fill=\"#46a3e7\" stroke=\"black\" d=\"M249,-425C249,-425 145,-425 145,-425 139,-425 133,-419 133,-413 133,-413 133,-354 133,-354 133,-348 139,-342 145,-342 145,-342 249,-342 249,-342 255,-342 261,-348 261,-354 261,-354 261,-413 261,-413 261,-419 255,-425 249,-425\"/>\n<text text-anchor=\"start\" x=\"141\" y=\"-409.8\" font-family=\"Helvetica,sans-Serif\" font-size=\"14.00\">Variance ≤ &#45;0.472</text>\n<text text-anchor=\"start\" x=\"159.5\" y=\"-394.8\" font-family=\"Helvetica,sans-Serif\" font-size=\"14.00\">gini = 0.115</text>\n<text text-anchor=\"start\" x=\"149.5\" y=\"-379.8\" font-family=\"Helvetica,sans-Serif\" font-size=\"14.00\">samples = 408</text>\n<text text-anchor=\"start\" x=\"144\" y=\"-364.8\" font-family=\"Helvetica,sans-Serif\" font-size=\"14.00\">value = [25, 383]</text>\n<text text-anchor=\"start\" x=\"168\" y=\"-349.8\" font-family=\"Helvetica,sans-Serif\" font-size=\"14.00\">class = 1</text>\n</g>\n<!-- 1&#45;&gt;3 -->\n<g id=\"edge2\" class=\"edge\">\n<title>1&#45;&gt;3</title>\n<path fill=\"none\" stroke=\"black\" d=\"M317.82,-460.91C302.32,-451.11 285.65,-440.56 269.79,-430.53\"/>\n<polygon fill=\"black\" stroke=\"black\" points=\"271.39,-427.41 261.07,-425.02 267.65,-433.32 271.39,-427.41\"/>\n</g>\n<!-- 4 -->\n<g id=\"node6\" class=\"node\">\n<title>4</title>\n<path fill=\"#eda672\" stroke=\"black\" d=\"M434,-425C434,-425 330,-425 330,-425 324,-425 318,-419 318,-413 318,-413 318,-354 318,-354 318,-348 324,-342 330,-342 330,-342 434,-342 434,-342 440,-342 446,-348 446,-354 446,-354 446,-413 446,-413 446,-419 440,-425 434,-425\"/>\n<text text-anchor=\"start\" x=\"326\" y=\"-409.8\" font-family=\"Helvetica,sans-Serif\" font-size=\"14.00\">Variance ≤ &#45;4.382</text>\n<text text-anchor=\"start\" x=\"344.5\" y=\"-394.8\" font-family=\"Helvetica,sans-Serif\" font-size=\"14.00\">gini = 0.348</text>\n<text text-anchor=\"start\" x=\"338.5\" y=\"-379.8\" font-family=\"Helvetica,sans-Serif\" font-size=\"14.00\">samples = 89</text>\n<text text-anchor=\"start\" x=\"333.5\" y=\"-364.8\" font-family=\"Helvetica,sans-Serif\" font-size=\"14.00\">value = [69, 20]</text>\n<text text-anchor=\"start\" x=\"353\" y=\"-349.8\" font-family=\"Helvetica,sans-Serif\" font-size=\"14.00\">class = 0</text>\n</g>\n<!-- 1&#45;&gt;4 -->\n<g id=\"edge5\" class=\"edge\">\n<title>1&#45;&gt;4</title>\n<path fill=\"none\" stroke=\"black\" d=\"M382,-460.91C382,-452.65 382,-443.86 382,-435.3\"/>\n<polygon fill=\"black\" stroke=\"black\" points=\"385.5,-435.02 382,-425.02 378.5,-435.02 385.5,-435.02\"/>\n</g>\n<!-- 17 -->\n<g id=\"node4\" class=\"node\">\n<title>17</title>\n<path fill=\"#40a0e6\" stroke=\"black\" d=\"M110,-298.5C110,-298.5 12,-298.5 12,-298.5 6,-298.5 0,-292.5 0,-286.5 0,-286.5 0,-242.5 0,-242.5 0,-236.5 6,-230.5 12,-230.5 12,-230.5 110,-230.5 110,-230.5 116,-230.5 122,-236.5 122,-242.5 122,-242.5 122,-286.5 122,-286.5 122,-292.5 116,-298.5 110,-298.5\"/>\n<text text-anchor=\"start\" x=\"23.5\" y=\"-283.3\" font-family=\"Helvetica,sans-Serif\" font-size=\"14.00\">gini = 0.062</text>\n<text text-anchor=\"start\" x=\"13.5\" y=\"-268.3\" font-family=\"Helvetica,sans-Serif\" font-size=\"14.00\">samples = 346</text>\n<text text-anchor=\"start\" x=\"8\" y=\"-253.3\" font-family=\"Helvetica,sans-Serif\" font-size=\"14.00\">value = [11, 335]</text>\n<text text-anchor=\"start\" x=\"32\" y=\"-238.3\" font-family=\"Helvetica,sans-Serif\" font-size=\"14.00\">class = 1</text>\n</g>\n<!-- 3&#45;&gt;17 -->\n<g id=\"edge3\" class=\"edge\">\n<title>3&#45;&gt;17</title>\n<path fill=\"none\" stroke=\"black\" d=\"M149.82,-341.91C136.09,-330.1 121.11,-317.22 107.44,-305.45\"/>\n<polygon fill=\"black\" stroke=\"black\" points=\"109.42,-302.54 99.55,-298.67 104.85,-307.84 109.42,-302.54\"/>\n</g>\n<!-- 18 -->\n<g id=\"node5\" class=\"node\">\n<title>18</title>\n<path fill=\"#73baed\" stroke=\"black\" d=\"M241.5,-298.5C241.5,-298.5 152.5,-298.5 152.5,-298.5 146.5,-298.5 140.5,-292.5 140.5,-286.5 140.5,-286.5 140.5,-242.5 140.5,-242.5 140.5,-236.5 146.5,-230.5 152.5,-230.5 152.5,-230.5 241.5,-230.5 241.5,-230.5 247.5,-230.5 253.5,-236.5 253.5,-242.5 253.5,-242.5 253.5,-286.5 253.5,-286.5 253.5,-292.5 247.5,-298.5 241.5,-298.5\"/>\n<text text-anchor=\"start\" x=\"163.5\" y=\"-283.3\" font-family=\"Helvetica,sans-Serif\" font-size=\"14.00\">gini = 0.35</text>\n<text text-anchor=\"start\" x=\"153.5\" y=\"-268.3\" font-family=\"Helvetica,sans-Serif\" font-size=\"14.00\">samples = 62</text>\n<text text-anchor=\"start\" x=\"148.5\" y=\"-253.3\" font-family=\"Helvetica,sans-Serif\" font-size=\"14.00\">value = [14, 48]</text>\n<text text-anchor=\"start\" x=\"168\" y=\"-238.3\" font-family=\"Helvetica,sans-Serif\" font-size=\"14.00\">class = 1</text>\n</g>\n<!-- 3&#45;&gt;18 -->\n<g id=\"edge4\" class=\"edge\">\n<title>3&#45;&gt;18</title>\n<path fill=\"none\" stroke=\"black\" d=\"M197,-341.91C197,-331.2 197,-319.62 197,-308.78\"/>\n<polygon fill=\"black\" stroke=\"black\" points=\"200.5,-308.67 197,-298.67 193.5,-308.67 200.5,-308.67\"/>\n</g>\n<!-- 5 -->\n<g id=\"node7\" class=\"node\">\n<title>5</title>\n<path fill=\"#399de5\" stroke=\"black\" d=\"M364.5,-298.5C364.5,-298.5 283.5,-298.5 283.5,-298.5 277.5,-298.5 271.5,-292.5 271.5,-286.5 271.5,-286.5 271.5,-242.5 271.5,-242.5 271.5,-236.5 277.5,-230.5 283.5,-230.5 283.5,-230.5 364.5,-230.5 364.5,-230.5 370.5,-230.5 376.5,-236.5 376.5,-242.5 376.5,-242.5 376.5,-286.5 376.5,-286.5 376.5,-292.5 370.5,-298.5 364.5,-298.5\"/>\n<text text-anchor=\"start\" x=\"295\" y=\"-283.3\" font-family=\"Helvetica,sans-Serif\" font-size=\"14.00\">gini = 0.0</text>\n<text text-anchor=\"start\" x=\"280.5\" y=\"-268.3\" font-family=\"Helvetica,sans-Serif\" font-size=\"14.00\">samples = 20</text>\n<text text-anchor=\"start\" x=\"279.5\" y=\"-253.3\" font-family=\"Helvetica,sans-Serif\" font-size=\"14.00\">value = [0, 20]</text>\n<text text-anchor=\"start\" x=\"295\" y=\"-238.3\" font-family=\"Helvetica,sans-Serif\" font-size=\"14.00\">class = 1</text>\n</g>\n<!-- 4&#45;&gt;5 -->\n<g id=\"edge6\" class=\"edge\">\n<title>4&#45;&gt;5</title>\n<path fill=\"none\" stroke=\"black\" d=\"M361.88,-341.91C356.41,-330.87 350.47,-318.9 344.96,-307.77\"/>\n<polygon fill=\"black\" stroke=\"black\" points=\"348.02,-306.07 340.44,-298.67 341.75,-309.18 348.02,-306.07\"/>\n</g>\n<!-- 6 -->\n<g id=\"node8\" class=\"node\">\n<title>6</title>\n<path fill=\"#e58139\" stroke=\"black\" d=\"M487.5,-298.5C487.5,-298.5 406.5,-298.5 406.5,-298.5 400.5,-298.5 394.5,-292.5 394.5,-286.5 394.5,-286.5 394.5,-242.5 394.5,-242.5 394.5,-236.5 400.5,-230.5 406.5,-230.5 406.5,-230.5 487.5,-230.5 487.5,-230.5 493.5,-230.5 499.5,-236.5 499.5,-242.5 499.5,-242.5 499.5,-286.5 499.5,-286.5 499.5,-292.5 493.5,-298.5 487.5,-298.5\"/>\n<text text-anchor=\"start\" x=\"418\" y=\"-283.3\" font-family=\"Helvetica,sans-Serif\" font-size=\"14.00\">gini = 0.0</text>\n<text text-anchor=\"start\" x=\"403.5\" y=\"-268.3\" font-family=\"Helvetica,sans-Serif\" font-size=\"14.00\">samples = 69</text>\n<text text-anchor=\"start\" x=\"402.5\" y=\"-253.3\" font-family=\"Helvetica,sans-Serif\" font-size=\"14.00\">value = [69, 0]</text>\n<text text-anchor=\"start\" x=\"418\" y=\"-238.3\" font-family=\"Helvetica,sans-Serif\" font-size=\"14.00\">class = 0</text>\n</g>\n<!-- 4&#45;&gt;6 -->\n<g id=\"edge7\" class=\"edge\">\n<title>4&#45;&gt;6</title>\n<path fill=\"none\" stroke=\"black\" d=\"M404.55,-341.91C410.74,-330.76 417.47,-318.66 423.7,-307.44\"/>\n<polygon fill=\"black\" stroke=\"black\" points=\"426.78,-309.11 428.57,-298.67 420.66,-305.71 426.78,-309.11\"/>\n</g>\n<!-- 7 -->\n<g id=\"node10\" class=\"node\">\n<title>7</title>\n<path fill=\"#78bced\" stroke=\"black\" d=\"M676,-425C676,-425 576,-425 576,-425 570,-425 564,-419 564,-413 564,-413 564,-354 564,-354 564,-348 570,-342 576,-342 576,-342 676,-342 676,-342 682,-342 688,-348 688,-354 688,-354 688,-413 688,-413 688,-419 682,-425 676,-425\"/>\n<text text-anchor=\"start\" x=\"572\" y=\"-409.8\" font-family=\"Helvetica,sans-Serif\" font-size=\"14.00\">Variance ≤ 2.211</text>\n<text text-anchor=\"start\" x=\"588.5\" y=\"-394.8\" font-family=\"Helvetica,sans-Serif\" font-size=\"14.00\">gini = 0.367</text>\n<text text-anchor=\"start\" x=\"582.5\" y=\"-379.8\" font-family=\"Helvetica,sans-Serif\" font-size=\"14.00\">samples = 33</text>\n<text text-anchor=\"start\" x=\"581.5\" y=\"-364.8\" font-family=\"Helvetica,sans-Serif\" font-size=\"14.00\">value = [8, 25]</text>\n<text text-anchor=\"start\" x=\"597\" y=\"-349.8\" font-family=\"Helvetica,sans-Serif\" font-size=\"14.00\">class = 1</text>\n</g>\n<!-- 2&#45;&gt;7 -->\n<g id=\"edge9\" class=\"edge\">\n<title>2&#45;&gt;7</title>\n<path fill=\"none\" stroke=\"black\" d=\"M626,-460.91C626,-452.65 626,-443.86 626,-435.3\"/>\n<polygon fill=\"black\" stroke=\"black\" points=\"629.5,-435.02 626,-425.02 622.5,-435.02 629.5,-435.02\"/>\n</g>\n<!-- 8 -->\n<g id=\"node13\" class=\"node\">\n<title>8</title>\n<path fill=\"#e78946\" stroke=\"black\" d=\"M874,-425C874,-425 774,-425 774,-425 768,-425 762,-419 762,-413 762,-413 762,-354 762,-354 762,-348 768,-342 774,-342 774,-342 874,-342 874,-342 880,-342 886,-348 886,-354 886,-354 886,-413 886,-413 886,-419 880,-425 874,-425\"/>\n<text text-anchor=\"start\" x=\"770\" y=\"-409.8\" font-family=\"Helvetica,sans-Serif\" font-size=\"14.00\">Variance ≤ 1.565</text>\n<text text-anchor=\"start\" x=\"786.5\" y=\"-394.8\" font-family=\"Helvetica,sans-Serif\" font-size=\"14.00\">gini = 0.113</text>\n<text text-anchor=\"start\" x=\"776.5\" y=\"-379.8\" font-family=\"Helvetica,sans-Serif\" font-size=\"14.00\">samples = 499</text>\n<text text-anchor=\"start\" x=\"771\" y=\"-364.8\" font-family=\"Helvetica,sans-Serif\" font-size=\"14.00\">value = [469, 30]</text>\n<text text-anchor=\"start\" x=\"795\" y=\"-349.8\" font-family=\"Helvetica,sans-Serif\" font-size=\"14.00\">class = 0</text>\n</g>\n<!-- 2&#45;&gt;8 -->\n<g id=\"edge12\" class=\"edge\">\n<title>2&#45;&gt;8</title>\n<path fill=\"none\" stroke=\"black\" d=\"M688.65,-464.48C709.07,-452.41 731.89,-438.93 752.88,-426.52\"/>\n<polygon fill=\"black\" stroke=\"black\" points=\"754.93,-429.38 761.76,-421.28 751.37,-423.35 754.93,-429.38\"/>\n</g>\n<!-- 9 -->\n<g id=\"node11\" class=\"node\">\n<title>9</title>\n<path fill=\"#399de5\" stroke=\"black\" d=\"M610.5,-298.5C610.5,-298.5 529.5,-298.5 529.5,-298.5 523.5,-298.5 517.5,-292.5 517.5,-286.5 517.5,-286.5 517.5,-242.5 517.5,-242.5 517.5,-236.5 523.5,-230.5 529.5,-230.5 529.5,-230.5 610.5,-230.5 610.5,-230.5 616.5,-230.5 622.5,-236.5 622.5,-242.5 622.5,-242.5 622.5,-286.5 622.5,-286.5 622.5,-292.5 616.5,-298.5 610.5,-298.5\"/>\n<text text-anchor=\"start\" x=\"541\" y=\"-283.3\" font-family=\"Helvetica,sans-Serif\" font-size=\"14.00\">gini = 0.0</text>\n<text text-anchor=\"start\" x=\"526.5\" y=\"-268.3\" font-family=\"Helvetica,sans-Serif\" font-size=\"14.00\">samples = 23</text>\n<text text-anchor=\"start\" x=\"525.5\" y=\"-253.3\" font-family=\"Helvetica,sans-Serif\" font-size=\"14.00\">value = [0, 23]</text>\n<text text-anchor=\"start\" x=\"541\" y=\"-238.3\" font-family=\"Helvetica,sans-Serif\" font-size=\"14.00\">class = 1</text>\n</g>\n<!-- 7&#45;&gt;9 -->\n<g id=\"edge10\" class=\"edge\">\n<title>7&#45;&gt;9</title>\n<path fill=\"none\" stroke=\"black\" d=\"M606.57,-341.91C601.29,-330.87 595.56,-318.9 590.23,-307.77\"/>\n<polygon fill=\"black\" stroke=\"black\" points=\"593.35,-306.18 585.87,-298.67 587.04,-309.2 593.35,-306.18\"/>\n</g>\n<!-- 10 -->\n<g id=\"node12\" class=\"node\">\n<title>10</title>\n<path fill=\"#eca06a\" stroke=\"black\" d=\"M731.5,-298.5C731.5,-298.5 652.5,-298.5 652.5,-298.5 646.5,-298.5 640.5,-292.5 640.5,-286.5 640.5,-286.5 640.5,-242.5 640.5,-242.5 640.5,-236.5 646.5,-230.5 652.5,-230.5 652.5,-230.5 731.5,-230.5 731.5,-230.5 737.5,-230.5 743.5,-236.5 743.5,-242.5 743.5,-242.5 743.5,-286.5 743.5,-286.5 743.5,-292.5 737.5,-298.5 731.5,-298.5\"/>\n<text text-anchor=\"start\" x=\"658.5\" y=\"-283.3\" font-family=\"Helvetica,sans-Serif\" font-size=\"14.00\">gini = 0.32</text>\n<text text-anchor=\"start\" x=\"648.5\" y=\"-268.3\" font-family=\"Helvetica,sans-Serif\" font-size=\"14.00\">samples = 10</text>\n<text text-anchor=\"start\" x=\"651.5\" y=\"-253.3\" font-family=\"Helvetica,sans-Serif\" font-size=\"14.00\">value = [8, 2]</text>\n<text text-anchor=\"start\" x=\"663\" y=\"-238.3\" font-family=\"Helvetica,sans-Serif\" font-size=\"14.00\">class = 0</text>\n</g>\n<!-- 7&#45;&gt;10 -->\n<g id=\"edge11\" class=\"edge\">\n<title>7&#45;&gt;10</title>\n<path fill=\"none\" stroke=\"black\" d=\"M648.9,-341.91C655.19,-330.76 662.01,-318.66 668.34,-307.44\"/>\n<polygon fill=\"black\" stroke=\"black\" points=\"671.43,-309.1 673.29,-298.67 665.33,-305.66 671.43,-309.1\"/>\n</g>\n<!-- 11 -->\n<g id=\"node14\" class=\"node\">\n<title>11</title>\n<path fill=\"#eb9f68\" stroke=\"black\" d=\"M874.5,-306C874.5,-306 773.5,-306 773.5,-306 767.5,-306 761.5,-300 761.5,-294 761.5,-294 761.5,-235 761.5,-235 761.5,-229 767.5,-223 773.5,-223 773.5,-223 874.5,-223 874.5,-223 880.5,-223 886.5,-229 886.5,-235 886.5,-235 886.5,-294 886.5,-294 886.5,-300 880.5,-306 874.5,-306\"/>\n<text text-anchor=\"start\" x=\"769.5\" y=\"-290.8\" font-family=\"Helvetica,sans-Serif\" font-size=\"14.00\">Curtosis ≤ &#45;2.272</text>\n<text text-anchor=\"start\" x=\"786.5\" y=\"-275.8\" font-family=\"Helvetica,sans-Serif\" font-size=\"14.00\">gini = 0.311</text>\n<text text-anchor=\"start\" x=\"776.5\" y=\"-260.8\" font-family=\"Helvetica,sans-Serif\" font-size=\"14.00\">samples = 140</text>\n<text text-anchor=\"start\" x=\"771\" y=\"-245.8\" font-family=\"Helvetica,sans-Serif\" font-size=\"14.00\">value = [113, 27]</text>\n<text text-anchor=\"start\" x=\"795\" y=\"-230.8\" font-family=\"Helvetica,sans-Serif\" font-size=\"14.00\">class = 0</text>\n</g>\n<!-- 8&#45;&gt;11 -->\n<g id=\"edge13\" class=\"edge\">\n<title>8&#45;&gt;11</title>\n<path fill=\"none\" stroke=\"black\" d=\"M824,-341.91C824,-333.65 824,-324.86 824,-316.3\"/>\n<polygon fill=\"black\" stroke=\"black\" points=\"827.5,-316.02 824,-306.02 820.5,-316.02 827.5,-316.02\"/>\n</g>\n<!-- 12 -->\n<g id=\"node19\" class=\"node\">\n<title>12</title>\n<path fill=\"#e5823b\" stroke=\"black\" d=\"M1005.5,-298.5C1005.5,-298.5 916.5,-298.5 916.5,-298.5 910.5,-298.5 904.5,-292.5 904.5,-286.5 904.5,-286.5 904.5,-242.5 904.5,-242.5 904.5,-236.5 910.5,-230.5 916.5,-230.5 916.5,-230.5 1005.5,-230.5 1005.5,-230.5 1011.5,-230.5 1017.5,-236.5 1017.5,-242.5 1017.5,-242.5 1017.5,-286.5 1017.5,-286.5 1017.5,-292.5 1011.5,-298.5 1005.5,-298.5\"/>\n<text text-anchor=\"start\" x=\"923.5\" y=\"-283.3\" font-family=\"Helvetica,sans-Serif\" font-size=\"14.00\">gini = 0.017</text>\n<text text-anchor=\"start\" x=\"913.5\" y=\"-268.3\" font-family=\"Helvetica,sans-Serif\" font-size=\"14.00\">samples = 359</text>\n<text text-anchor=\"start\" x=\"912.5\" y=\"-253.3\" font-family=\"Helvetica,sans-Serif\" font-size=\"14.00\">value = [356, 3]</text>\n<text text-anchor=\"start\" x=\"932\" y=\"-238.3\" font-family=\"Helvetica,sans-Serif\" font-size=\"14.00\">class = 0</text>\n</g>\n<!-- 8&#45;&gt;12 -->\n<g id=\"edge18\" class=\"edge\">\n<title>8&#45;&gt;12</title>\n<path fill=\"none\" stroke=\"black\" d=\"M871.53,-341.91C885.36,-330.1 900.44,-317.22 914.22,-305.45\"/>\n<polygon fill=\"black\" stroke=\"black\" points=\"916.83,-307.82 922.16,-298.67 912.29,-302.5 916.83,-307.82\"/>\n</g>\n<!-- 13 -->\n<g id=\"node15\" class=\"node\">\n<title>13</title>\n<path fill=\"#52a9e8\" stroke=\"black\" d=\"M798.5,-179.5C798.5,-179.5 717.5,-179.5 717.5,-179.5 711.5,-179.5 705.5,-173.5 705.5,-167.5 705.5,-167.5 705.5,-123.5 705.5,-123.5 705.5,-117.5 711.5,-111.5 717.5,-111.5 717.5,-111.5 798.5,-111.5 798.5,-111.5 804.5,-111.5 810.5,-117.5 810.5,-123.5 810.5,-123.5 810.5,-167.5 810.5,-167.5 810.5,-173.5 804.5,-179.5 798.5,-179.5\"/>\n<text text-anchor=\"start\" x=\"720.5\" y=\"-164.3\" font-family=\"Helvetica,sans-Serif\" font-size=\"14.00\">gini = 0.198</text>\n<text text-anchor=\"start\" x=\"714.5\" y=\"-149.3\" font-family=\"Helvetica,sans-Serif\" font-size=\"14.00\">samples = 18</text>\n<text text-anchor=\"start\" x=\"713.5\" y=\"-134.3\" font-family=\"Helvetica,sans-Serif\" font-size=\"14.00\">value = [2, 16]</text>\n<text text-anchor=\"start\" x=\"729\" y=\"-119.3\" font-family=\"Helvetica,sans-Serif\" font-size=\"14.00\">class = 1</text>\n</g>\n<!-- 11&#45;&gt;13 -->\n<g id=\"edge14\" class=\"edge\">\n<title>11&#45;&gt;13</title>\n<path fill=\"none\" stroke=\"black\" d=\"M801.1,-222.91C794.81,-211.76 787.99,-199.66 781.66,-188.44\"/>\n<polygon fill=\"black\" stroke=\"black\" points=\"784.67,-186.66 776.71,-179.67 778.57,-190.1 784.67,-186.66\"/>\n</g>\n<!-- 14 -->\n<g id=\"node16\" class=\"node\">\n<title>14</title>\n<path fill=\"#e88d4d\" stroke=\"black\" d=\"M939,-187C939,-187 841,-187 841,-187 835,-187 829,-181 829,-175 829,-175 829,-116 829,-116 829,-110 835,-104 841,-104 841,-104 939,-104 939,-104 945,-104 951,-110 951,-116 951,-116 951,-175 951,-175 951,-181 945,-187 939,-187\"/>\n<text text-anchor=\"start\" x=\"843.5\" y=\"-171.8\" font-family=\"Helvetica,sans-Serif\" font-size=\"14.00\">Entropy ≤ 0.23</text>\n<text text-anchor=\"start\" x=\"852.5\" y=\"-156.8\" font-family=\"Helvetica,sans-Serif\" font-size=\"14.00\">gini = 0.164</text>\n<text text-anchor=\"start\" x=\"842.5\" y=\"-141.8\" font-family=\"Helvetica,sans-Serif\" font-size=\"14.00\">samples = 122</text>\n<text text-anchor=\"start\" x=\"837\" y=\"-126.8\" font-family=\"Helvetica,sans-Serif\" font-size=\"14.00\">value = [111, 11]</text>\n<text text-anchor=\"start\" x=\"861\" y=\"-111.8\" font-family=\"Helvetica,sans-Serif\" font-size=\"14.00\">class = 0</text>\n</g>\n<!-- 11&#45;&gt;14 -->\n<g id=\"edge15\" class=\"edge\">\n<title>11&#45;&gt;14</title>\n<path fill=\"none\" stroke=\"black\" d=\"M846.9,-222.91C851.81,-214.2 857.06,-204.9 862.14,-195.89\"/>\n<polygon fill=\"black\" stroke=\"black\" points=\"865.28,-197.45 867.14,-187.02 859.18,-194.01 865.28,-197.45\"/>\n</g>\n<!-- 15 -->\n<g id=\"node17\" class=\"node\">\n<title>15</title>\n<path fill=\"#e58139\" stroke=\"black\" d=\"M866.5,-68C866.5,-68 785.5,-68 785.5,-68 779.5,-68 773.5,-62 773.5,-56 773.5,-56 773.5,-12 773.5,-12 773.5,-6 779.5,0 785.5,0 785.5,0 866.5,0 866.5,0 872.5,0 878.5,-6 878.5,-12 878.5,-12 878.5,-56 878.5,-56 878.5,-62 872.5,-68 866.5,-68\"/>\n<text text-anchor=\"start\" x=\"797\" y=\"-52.8\" font-family=\"Helvetica,sans-Serif\" font-size=\"14.00\">gini = 0.0</text>\n<text text-anchor=\"start\" x=\"782.5\" y=\"-37.8\" font-family=\"Helvetica,sans-Serif\" font-size=\"14.00\">samples = 98</text>\n<text text-anchor=\"start\" x=\"781.5\" y=\"-22.8\" font-family=\"Helvetica,sans-Serif\" font-size=\"14.00\">value = [98, 0]</text>\n<text text-anchor=\"start\" x=\"797\" y=\"-7.8\" font-family=\"Helvetica,sans-Serif\" font-size=\"14.00\">class = 0</text>\n</g>\n<!-- 14&#45;&gt;15 -->\n<g id=\"edge16\" class=\"edge\">\n<title>14&#45;&gt;15</title>\n<path fill=\"none\" stroke=\"black\" d=\"M866.17,-103.73C861.1,-95.06 855.75,-85.9 850.65,-77.18\"/>\n<polygon fill=\"black\" stroke=\"black\" points=\"853.53,-75.17 845.46,-68.3 847.49,-78.7 853.53,-75.17\"/>\n</g>\n<!-- 16 -->\n<g id=\"node18\" class=\"node\">\n<title>16</title>\n<path fill=\"#fbece1\" stroke=\"black\" d=\"M997.5,-68C997.5,-68 908.5,-68 908.5,-68 902.5,-68 896.5,-62 896.5,-56 896.5,-56 896.5,-12 896.5,-12 896.5,-6 902.5,0 908.5,0 908.5,0 997.5,0 997.5,0 1003.5,0 1009.5,-6 1009.5,-12 1009.5,-12 1009.5,-56 1009.5,-56 1009.5,-62 1003.5,-68 997.5,-68\"/>\n<text text-anchor=\"start\" x=\"915.5\" y=\"-52.8\" font-family=\"Helvetica,sans-Serif\" font-size=\"14.00\">gini = 0.497</text>\n<text text-anchor=\"start\" x=\"909.5\" y=\"-37.8\" font-family=\"Helvetica,sans-Serif\" font-size=\"14.00\">samples = 24</text>\n<text text-anchor=\"start\" x=\"904.5\" y=\"-22.8\" font-family=\"Helvetica,sans-Serif\" font-size=\"14.00\">value = [13, 11]</text>\n<text text-anchor=\"start\" x=\"924\" y=\"-7.8\" font-family=\"Helvetica,sans-Serif\" font-size=\"14.00\">class = 0</text>\n</g>\n<!-- 14&#45;&gt;16 -->\n<g id=\"edge17\" class=\"edge\">\n<title>14&#45;&gt;16</title>\n<path fill=\"none\" stroke=\"black\" d=\"M913.46,-103.73C918.44,-95.06 923.72,-85.9 928.73,-77.18\"/>\n<polygon fill=\"black\" stroke=\"black\" points=\"931.89,-78.71 933.84,-68.3 925.82,-75.22 931.89,-78.71\"/>\n</g>\n</g>\n</svg>\n",
      "text/plain": [
       "<graphviz.sources.Source at 0x1fd48e7c160>"
      ]
     },
     "execution_count": 110,
     "metadata": {},
     "output_type": "execute_result"
    }
   ],
   "source": [
    "# e poi in forma grafica\n",
    "features=list(df.columns.values)\n",
    "\n",
    "import graphviz\n",
    "dot_data = tree.export_graphviz(tree_clf, out_file=None, \n",
    "                     feature_names=features[0:-1],  \n",
    "                     class_names=['0','1'],  \n",
    "                     filled=True, rounded=True,  \n",
    "                     special_characters=True)  \n",
    "graph = graphviz.Source(dot_data)\n",
    "graph.render('diabetes')\n",
    "graph"
   ]
  },
  {
   "cell_type": "code",
   "execution_count": 105,
   "metadata": {},
   "outputs": [],
   "source": [
    "# proviamo a determinare adesso se la banconota \n",
    "# di cui abbiamo avuto le caratteristiche all'inizio dell'esercizio è vera o è falsa:\n"
   ]
  },
  {
   "cell_type": "code",
   "execution_count": 106,
   "metadata": {},
   "outputs": [],
   "source": [
    "# la banconota è vera o falsa?\n",
    "# risposta:"
   ]
  },
  {
   "cell_type": "code",
   "execution_count": 112,
   "metadata": {},
   "outputs": [
    {
     "data": {
      "text/plain": [
       "array([1.])"
      ]
     },
     "execution_count": 112,
     "metadata": {},
     "output_type": "execute_result"
    }
   ],
   "source": [
    "# la banconota che abbiamo testato in realtà è una di quelle giè presenti nel dataset. \n",
    "# Provate ad andare a vedere nel dataframe Pandas se la predizione del metodo è corretta o meno\n",
    "# cercando alcune caratteristiche delòa nostra banconota, ad esempio 'Variance' = -3.0866, 'Skewness' = -6.6362 e\n",
    "# 'Curtosis' = 10.5405\n",
    "\n",
    "\n",
    "from tabulate import tabulate\n",
    "\n",
    "info = [\"Variance\",\"Skewness\",\"Cuutosis\",\"Entropy\"]\n",
    "daScoprire = [-3.0886,-6.6362 , 10.5405, -0.89182]\n",
    "daScoprire = [[-3.0886,-6.6362 , 10.5405, -0.89182]]\n",
    "predictDaScoprire = tree_clf.predict(daScoprire)\n",
    "predictDaScoprire\n"
   ]
  },
  {
   "cell_type": "code",
   "execution_count": 113,
   "metadata": {},
   "outputs": [
    {
     "data": {
      "text/html": [
       "<div>\n",
       "<style scoped>\n",
       "    .dataframe tbody tr th:only-of-type {\n",
       "        vertical-align: middle;\n",
       "    }\n",
       "\n",
       "    .dataframe tbody tr th {\n",
       "        vertical-align: top;\n",
       "    }\n",
       "\n",
       "    .dataframe thead th {\n",
       "        text-align: right;\n",
       "    }\n",
       "</style>\n",
       "<table border=\"1\" class=\"dataframe\">\n",
       "  <thead>\n",
       "    <tr style=\"text-align: right;\">\n",
       "      <th></th>\n",
       "      <th>Variance</th>\n",
       "      <th>Skewness</th>\n",
       "      <th>Curtosis</th>\n",
       "      <th>Entropy</th>\n",
       "      <th>Class</th>\n",
       "    </tr>\n",
       "  </thead>\n",
       "  <tbody>\n",
       "    <tr>\n",
       "      <th>998</th>\n",
       "      <td>-3.0866</td>\n",
       "      <td>-6.6362</td>\n",
       "      <td>10.5405</td>\n",
       "      <td>-0.89182</td>\n",
       "      <td>1</td>\n",
       "    </tr>\n",
       "  </tbody>\n",
       "</table>\n",
       "</div>"
      ],
      "text/plain": [
       "     Variance  Skewness  Curtosis  Entropy  Class\n",
       "998   -3.0866   -6.6362   10.5405 -0.89182      1"
      ]
     },
     "execution_count": 113,
     "metadata": {},
     "output_type": "execute_result"
    }
   ],
   "source": [
    "# il metodo ha predetto correttamente il risultato?\n",
    "# risposta:\n",
    "df[(df['Variance'] == -3.0866) & (df['Skewness'] == -6.6362) & (df['Curtosis'] == 10.5405)]"
   ]
  }
 ],
 "metadata": {
  "kernelspec": {
   "display_name": "Python 3",
   "language": "python",
   "name": "python3"
  },
  "language_info": {
   "codemirror_mode": {
    "name": "ipython",
    "version": 3
   },
   "file_extension": ".py",
   "mimetype": "text/x-python",
   "name": "python",
   "nbconvert_exporter": "python",
   "pygments_lexer": "ipython3",
   "version": "3.9.1"
  }
 },
 "nbformat": 4,
 "nbformat_minor": 4
}
